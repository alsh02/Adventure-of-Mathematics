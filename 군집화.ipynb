{
  "nbformat": 4,
  "nbformat_minor": 0,
  "metadata": {
    "colab": {
      "private_outputs": true,
      "provenance": [],
      "authorship_tag": "ABX9TyPFt2e3VdXWvVOVuS/KubRw",
      "include_colab_link": true
    },
    "kernelspec": {
      "name": "python3",
      "display_name": "Python 3"
    },
    "language_info": {
      "name": "python"
    },
    "accelerator": "TPU",
    "gpuClass": "standard"
  },
  "cells": [
    {
      "cell_type": "markdown",
      "metadata": {
        "id": "view-in-github",
        "colab_type": "text"
      },
      "source": [
        "<a href=\"https://colab.research.google.com/github/alsh02/Mathematical-Explorations/blob/main/%EA%B5%B0%EC%A7%91%ED%99%94.ipynb\" target=\"_parent\"><img src=\"https://colab.research.google.com/assets/colab-badge.svg\" alt=\"Open In Colab\"/></a>"
      ]
    },
    {
      "cell_type": "markdown",
      "source": [
        "# 군집화하기\n",
        "피파 선수들의 데이터를 바탕으로 200명의 선수들을 상, 중, 하로 군집화해봅시다."
      ],
      "metadata": {
        "id": "rChng7R5gZHi"
      }
    },
    {
      "cell_type": "code",
      "execution_count": null,
      "metadata": {
        "id": "YkbFh7jj9UbN"
      },
      "outputs": [],
      "source": [
        "import pandas as pd\n",
        "import numpy as np\n",
        "import matplotlib.pyplot as plt\n",
        "from copy import deepcopy"
      ]
    },
    {
      "cell_type": "code",
      "source": [
        "# 구글 드라이브 마운트하기\n",
        "from google.colab import drive\n",
        "drive.mount('/content/drive')"
      ],
      "metadata": {
        "id": "-uc2TLq6Y5y6"
      },
      "execution_count": null,
      "outputs": []
    },
    {
      "cell_type": "code",
      "source": [
        "# csv 파일 불러오기\n",
        "fifa_csv = pd.read_csv(\"/content/drive/MyDrive/colab_csv/fifa2019.csv\")\n",
        "fifa_df = pd.DataFrame.copy(fifa_csv.sort_values(by='Overall', ascending=False).head(200))\n",
        "test_features = ['Name', 'Stamina', 'Dribbling', 'ShortPassing', 'Penalties']\n",
        "test_df = pd.DataFrame(fifa_df, columns=test_features)"
      ],
      "metadata": {
        "id": "DcHt72f2YoUk"
      },
      "execution_count": null,
      "outputs": []
    },
    {
      "cell_type": "code",
      "source": [
        "# 선수들 리스트 중 stamina와 dribbling 항목만 가져옴.\n",
        "all_player_array = np.array(test_df)\n",
        "players = all_player_array[:, 1:3]"
      ],
      "metadata": {
        "id": "y2_9x4lvaGXt"
      },
      "execution_count": null,
      "outputs": []
    },
    {
      "cell_type": "code",
      "source": [
        "# 임의의 3개의 중심점 생성\n",
        "k = 3 # 분류하려는 군집이 상, 중, 하 이므로 3개이다.\n",
        "centroid_about_stamina = np.random.choice(players[:, 0], k)\n",
        "centroid_about_dribbling = np.random.choice(players[:, 1], k)\n",
        "centroids = np.array(list(zip(centroid_about_stamina, centroid_about_dribbling)))"
      ],
      "metadata": {
        "id": "VKXJ9W7Haauk"
      },
      "execution_count": null,
      "outputs": []
    },
    {
      "cell_type": "code",
      "source": [
        "# 유클리디언 거리를 구하는 함수\n",
        "def distance(a, b):\n",
        "  return np.sqrt(np.sum(np.power(a - b, 2)))"
      ],
      "metadata": {
        "id": "jFPcY8J8blle"
      },
      "execution_count": null,
      "outputs": []
    },
    {
      "cell_type": "code",
      "source": [
        "# 중심 좌표를 업데이트하기 위해서 전 상태의 중심 좌표를 저장해놓을 변수 선언\n",
        "temp_centroids = np.zeros(centroids.shape)\n",
        "\n",
        "# 모든 데이터의 군집 라벨 저장을 위해 array 선언\n",
        "clusters = np.zeros(len(players))\n",
        "\n",
        "# 반복문의 종료 기준 변수 선언. 0일 때 반복문을 종료한다.\n",
        "stop_flag = distance(centroids, temp_centroids)"
      ],
      "metadata": {
        "id": "s_vyGGrkcBXL"
      },
      "execution_count": null,
      "outputs": []
    },
    {
      "cell_type": "code",
      "source": [
        "distances = []\n",
        "while stop_flag != 0: # 중심 좌표가 변하지 않을 때까지 반복\n",
        "  for i, player in enumerate(players):\n",
        "    for j, centroid in enumerate(centroids): \n",
        "      distances.append(distance(player, centroid)) # 한 데이터와 3개의 중심점까지의 거리 계산\n",
        "    cluster = np.argmin(distances) # 그 중 가장 작은 거리의 인덱스값을 저장\n",
        "    clusters[i] = cluster # 그 인덱스값은 군집의 라벨이 됨.\n",
        "    distances = []\n",
        "    \n",
        "  temp_centroids = deepcopy(centroids) # 현재 중심 좌표 array를 복사\n",
        "  \n",
        "  # 현재 각각의 군집의 무게중심의 좌표를 구한 뒤 위에서 복사한 중심 좌표와 비교한다.\n",
        "  for i in range(k):\n",
        "    points = [players[idx] for idx in range(len(players)) if clusters[idx] == i]\n",
        "    centroids[i] = np.mean(points)\n",
        "  stop_flag = distance(centroids, temp_centroids)"
      ],
      "metadata": {
        "id": "8zi6E6rjdcIM"
      },
      "execution_count": null,
      "outputs": []
    },
    {
      "cell_type": "code",
      "source": [
        "# 1번 군집\n",
        "plt.scatter(players[clusters == 0,0], players[clusters == 0,1], s=50, c='red', marker='o', edgecolor='black', label='Middle')\n",
        "\n",
        "# 2번 군집\n",
        "plt.scatter(players[clusters == 1,0], players[clusters == 1,1], s=50, c='yellow', marker='x', edgecolor='black', label='Low')\n",
        "\n",
        "# 3번 군집\n",
        "plt.scatter(players[clusters == 2,0], players[clusters == 2,1], s=50, c='blue', marker='^', edgecolor='black', label='High')\n",
        "\n",
        "# 군집의 중심 좌표들\n",
        "plt.scatter(centroids[:, 0], centroids[:, 1], s=250, marker='*', c='black', edgecolor='black', label='Centroids')\n",
        "plt.legend()\n",
        "plt.grid()\n",
        "plt.show()"
      ],
      "metadata": {
        "id": "IPtyX4-agC_l"
      },
      "execution_count": null,
      "outputs": []
    }
  ]
}