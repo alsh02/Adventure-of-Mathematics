{
  "nbformat": 4,
  "nbformat_minor": 0,
  "metadata": {
    "colab": {
      "private_outputs": true,
      "provenance": [],
      "authorship_tag": "ABX9TyNNxO8HgzvPIpS9V5AW1WuT",
      "include_colab_link": true
    },
    "kernelspec": {
      "name": "python3",
      "display_name": "Python 3"
    },
    "language_info": {
      "name": "python"
    }
  },
  "cells": [
    {
      "cell_type": "markdown",
      "metadata": {
        "id": "view-in-github",
        "colab_type": "text"
      },
      "source": [
        "<a href=\"https://colab.research.google.com/github/alsh02/Adventure-of-Mathematics/blob/main/%EC%9D%B4%EB%AF%B8%EC%A7%80_%ED%95%A9%EC%B9%98%EA%B8%B0.ipynb\" target=\"_parent\"><img src=\"https://colab.research.google.com/assets/colab-badge.svg\" alt=\"Open In Colab\"/></a>"
      ]
    },
    {
      "cell_type": "markdown",
      "source": [
        "# 이미지 합치기\n",
        "두 개의 이미지를 다른 하나의 이미지에 합쳐봅시다."
      ],
      "metadata": {
        "id": "8NNwQ95V5-ni"
      }
    },
    {
      "cell_type": "code",
      "execution_count": null,
      "metadata": {
        "id": "qKnrguSb5mgP"
      },
      "outputs": [],
      "source": [
        "import numpy as np                  # 벡터, 행렬 데이터를 쉽게 처리하기 위한 모듈\n",
        "import matplotlib.pyplot as plt     # 화면에 이미지 데이터를 보여주기 위한 모듈 \n",
        "import PIL.Image as pilimg          # 이미지 파일과 데이터 처리를 위한 모듈"
      ]
    },
    {
      "cell_type": "code",
      "source": [
        "# 구글 드라이브 마운트하기\n",
        "from google.colab import drive\n",
        "drive.mount('/content/drive')"
      ],
      "metadata": {
        "id": "GJe8ONT28hgC"
      },
      "execution_count": null,
      "outputs": []
    },
    {
      "cell_type": "code",
      "source": [
        "# 이미지 불러오기\n",
        "img1 = pilimg.open(\"/content/drive/MyDrive/colab_image/karina1.png\")\n",
        "img2 = pilimg.open(\"/content/drive/MyDrive/colab_image/winter.jpg\")\n",
        "img3 = pilimg.open(\"/content/drive/MyDrive/colab_image/background.png\")\n",
        "\n",
        "# 불러온 이미지 확인\n",
        "plt.subplot(131)\n",
        "plt.imshow(img1)\n",
        "plt.subplot(132)\n",
        "plt.imshow(img2)\n",
        "plt.subplot(133)\n",
        "plt.imshow(img3)"
      ],
      "metadata": {
        "id": "CWOyr366_rTV"
      },
      "execution_count": null,
      "outputs": []
    },
    {
      "cell_type": "code",
      "source": [
        "# 배경 이미지 array 변환\n",
        "background_pix = np.array(img3)\n",
        "\n",
        "# 배경 이미지 가로 길이가 홀수면 배경 이미지 가로 길이를 반올림.\n",
        "resizeX2 = background_pix.shape[1] / 2\n",
        "if background_pix.shape[1] % 2 > 0:\n",
        "  resizeX1 = background_pix.shape[1] / 2 + 1\n",
        "else:\n",
        "  resizeX1 = background_pix.shape[1] / 2"
      ],
      "metadata": {
        "id": "FlFNzYz3CSHu"
      },
      "execution_count": null,
      "outputs": []
    },
    {
      "cell_type": "code",
      "source": [
        "# 이미지를 합치기 위해 배경 이미지의 절반씩 차지하도록 크기 변경\n",
        "img1 = img1.resize((int(resizeX1), int(background_pix.shape[0])))\n",
        "pix1 = np.array(img1)\n",
        "\n",
        "img2 = img2.resize((int(resizeX2), int(background_pix.shape[0])))\n",
        "pix2 = np.array(img2)\n",
        "\n",
        "# 이미지 가로로 합치기(axis=1 : 가로)\n",
        "concatenated_pix = np.concatenate((pix1, pix2), axis=1)\n",
        "plt.imshow(concatenated_pix)"
      ],
      "metadata": {
        "id": "CbYcQ5tPDK28"
      },
      "execution_count": null,
      "outputs": []
    },
    {
      "cell_type": "code",
      "source": [
        "# 픽셀값 정규화\n",
        "background_pix = (1 / 255) * background_pix\n",
        "concatenated_pix = (1 / 255) * concatenated_pix\n",
        "\n",
        "# 가중치 설정\n",
        "weight = 0.3\n",
        "\n",
        "# 가중치을 각 행렬에 실수배한 다음 더함\n",
        "merged_pix = background_pix * weight + concatenated_pix * (1 - weight)\n",
        "plt.imshow(merged_pix)"
      ],
      "metadata": {
        "id": "LbOw-5CyD19y"
      },
      "execution_count": null,
      "outputs": []
    }
  ]
}