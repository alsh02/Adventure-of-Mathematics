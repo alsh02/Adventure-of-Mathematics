{
  "nbformat": 4,
  "nbformat_minor": 0,
  "metadata": {
    "colab": {
      "private_outputs": true,
      "provenance": [],
      "authorship_tag": "ABX9TyPL7z//yxtzdZclkV0V0Xln",
      "include_colab_link": true
    },
    "kernelspec": {
      "name": "python3",
      "display_name": "Python 3"
    },
    "language_info": {
      "name": "python"
    }
  },
  "cells": [
    {
      "cell_type": "markdown",
      "metadata": {
        "id": "view-in-github",
        "colab_type": "text"
      },
      "source": [
        "<a href=\"https://colab.research.google.com/github/alsh02/Mathematical-Explorations/blob/main/%EB%B6%93%EA%BD%83_%EC%A2%85%EB%A5%98_%EB%B6%84%EB%A5%98.ipynb\" target=\"_parent\"><img src=\"https://colab.research.google.com/assets/colab-badge.svg\" alt=\"Open In Colab\"/></a>"
      ]
    },
    {
      "cell_type": "markdown",
      "source": [
        "# 분류\n",
        "붓꽃의 종류를 K-NN 알고리즘을 이용하여 분류해봅시다."
      ],
      "metadata": {
        "id": "65SVjui4oUCh"
      }
    },
    {
      "cell_type": "code",
      "execution_count": null,
      "metadata": {
        "id": "SA9LWPXZoMkh"
      },
      "outputs": [],
      "source": [
        "import pandas as pd\n",
        "import numpy as np"
      ]
    },
    {
      "cell_type": "code",
      "source": [
        "# 구글 드라이브 마운트하기\n",
        "from google.colab import drive\n",
        "drive.mount('/content/drive')"
      ],
      "metadata": {
        "id": "E9fAL34IosRp"
      },
      "execution_count": null,
      "outputs": []
    },
    {
      "cell_type": "code",
      "source": [
        "# 붓꽃 csv 파일 불러오기\n",
        "iris = pd.read_csv('/content/drive/MyDrive/colab_csv/Iris.csv')\n",
        "iris_array = np.array(iris)\n",
        "\n",
        "features = iris_array[:, 1:-1]\n",
        "target_value = iris_array[:, [-1]]"
      ],
      "metadata": {
        "id": "aQtzujGNo-qT"
      },
      "execution_count": null,
      "outputs": []
    },
    {
      "cell_type": "code",
      "source": [
        "# 유클리드 거리 함수\n",
        "def distance(a, b):\n",
        "  return np.sqrt(np.sum(np.power(a - b, 2)))"
      ],
      "metadata": {
        "id": "1rrDV_Gio2QN"
      },
      "execution_count": null,
      "outputs": []
    },
    {
      "cell_type": "code",
      "source": [
        "# 마지막 행벡터와 거리가 가까운 K개의 데이터의 라벨 중 빈도가 가장 높은 라벨을 반환하는 함수\n",
        "def KNN(unknown, features, K):\n",
        "  data_length = len(features)\n",
        "\n",
        "  # 데이터 사이의 거리 계산\n",
        "  distance_result = np.zeros(data_length)\n",
        "  for i in range(data_length):\n",
        "    distance_result[i] = distance(unknown, features[i])\n",
        "  \n",
        "  # 분류하려는 데이터와 가까운 순서대로 인덱스 정렬\n",
        "  index = distance_result.argsort()\n",
        "\n",
        "  # 레이블별 빈도 세기\n",
        "  target_result = []\n",
        "  result = [0, 0, 0]\n",
        "  for i in range(K):\n",
        "    target_result.append(target_value[index[i]])\n",
        "    if target_result[i] == 'Iris-setosa':\n",
        "      result[0] += 1\n",
        "    elif target_result[i] == 'Iris-versicolor':\n",
        "      result[1] += 1\n",
        "    else:\n",
        "      result[2] += 1\n",
        "\n",
        "  max_label = result.index(max(result)) # 가장 많이 나온 라벨의 인덱스 값을 저장\n",
        "  species = {0:\"setosa\", 1:\"versicolor\", 2:\"virginica\"}\n",
        "  species_result = species[max_label]\n",
        "\n",
        "  return species_result"
      ],
      "metadata": {
        "id": "oUS3yry4u4us"
      },
      "execution_count": null,
      "outputs": []
    },
    {
      "cell_type": "code",
      "source": [
        "# 그림에서 수집한 데이터\n",
        "ID_1=np.array([2.7, 2.4, 1.65, 0.67])\n",
        "ID_2=np.array([5.84, 5.48, 3, 2.16])\n",
        "ID_3=np.array([3.97, 4.01, 1.7, 0.67])"
      ],
      "metadata": {
        "id": "wIwUw4T11-zg"
      },
      "execution_count": null,
      "outputs": []
    },
    {
      "cell_type": "code",
      "source": [
        "# K_NN 분류기 함수를 이용하여 분류하기\n",
        "result1 = KNN(ID_1, features, 5)\n",
        "result2 = KNN(ID_2, features, 5)\n",
        "result3 = KNN(ID_3, features, 5)"
      ],
      "metadata": {
        "id": "bnVVN19C2QAE"
      },
      "execution_count": null,
      "outputs": []
    },
    {
      "cell_type": "code",
      "source": [
        "# 결과 출력\n",
        "print(result1, result2, result3)"
      ],
      "metadata": {
        "id": "PR65Hyj22fCm"
      },
      "execution_count": null,
      "outputs": []
    }
  ]
}