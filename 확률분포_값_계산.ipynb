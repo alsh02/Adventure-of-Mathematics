{
  "nbformat": 4,
  "nbformat_minor": 0,
  "metadata": {
    "colab": {
      "private_outputs": true,
      "provenance": [],
      "mount_file_id": "1Ls5wtJuj1DTIsSZSxFf80kap1y4sI6Fq",
      "authorship_tag": "ABX9TyPJ0/ygYrq9EcmezKuvF+vf",
      "include_colab_link": true
    },
    "kernelspec": {
      "name": "python3",
      "display_name": "Python 3"
    },
    "language_info": {
      "name": "python"
    },
    "accelerator": "TPU",
    "gpuClass": "standard"
  },
  "cells": [
    {
      "cell_type": "markdown",
      "metadata": {
        "id": "view-in-github",
        "colab_type": "text"
      },
      "source": [
        "<a href=\"https://colab.research.google.com/github/alsh02/Mathematical-Explorations/blob/main/%ED%99%95%EB%A5%A0%EB%B6%84%ED%8F%AC_%EA%B0%92_%EA%B3%84%EC%82%B0.ipynb\" target=\"_parent\"><img src=\"https://colab.research.google.com/assets/colab-badge.svg\" alt=\"Open In Colab\"/></a>"
      ]
    },
    {
      "cell_type": "markdown",
      "source": [
        "# 파이썬을 이용해 확률분포 다루기\n",
        "## X ~ N(0, 9) 일 때, P[X >= x] = 0.05 가 되는 x의 값을 찾아보자.\n"
      ],
      "metadata": {
        "id": "IHRmCTkEJRuu"
      }
    },
    {
      "cell_type": "code",
      "source": [
        "# 통계 라이브러리에서 정규분포 모듈 불러오기\n",
        "from scipy.stats import norm\n",
        "\n",
        "# 수치 계산을 위한 라이브러리 불러오기\n",
        "import numpy as np\n",
        "\n",
        "# 그래프를 그려주는 라이브러리 불러오기\n",
        "import matplotlib.pyplot as plt"
      ],
      "metadata": {
        "id": "lTkYLWCjJeGv"
      },
      "execution_count": null,
      "outputs": []
    },
    {
      "cell_type": "code",
      "source": [
        "# 정규분포에서 윗부분의 확률이 0.05가 된다는 것은 누적분포함수의 함수값이 0.05가 되도록 하는 x의 값을 알아야한다.\n",
        "# 치역의 값으로부터 정의역의 값을 역함수를 통해 알아낼 수 있다.\n",
        "# 누적분포함수의 역함수를 Probability Point Function(PPF)라고 한다. 이는 확률값을 대입하면 P[X <= x]에서 x의 값을 알려주는 함수이다.\n",
        "# 우린 이 PPF의 값을 norm.ppf() 라는 함수를 통해 쉽게 구할 수 있다.\n",
        "x005 = norm.ppf(0.95, 0, 9)"
      ],
      "metadata": {
        "id": "c9d_me3rJ-Vh"
      },
      "execution_count": null,
      "outputs": []
    },
    {
      "cell_type": "code",
      "source": [
        "# 값을 제대로 찾았는지 그래프를 그려서 확인해보자.\n",
        "\n",
        "# 정의역 설정\n",
        "range_of_x = np.linspace(-30, 30, 100)\n",
        "larger_than_x005 = np.linspace(x005, 30, 100)\n",
        "\n",
        "# 그래프 그리기\n",
        "plt.plot(range_of_x, norm.pdf(range_of_x, 0, 9))\n",
        "\n",
        "# 위에서 찾은 값을 x축에 수직하도록 선을 그어보자.\n",
        "plt.vlines(x005, 0, norm.pdf(x005, 0, 9), colors='red', linestyle='dashed') \n",
        "\n",
        "# (x025, 30) 구간의 그래프의 밑부분을 칠해보자.\n",
        "plt.fill_between(larger_than_x005, norm.pdf(larger_than_x005, 0, 9), alpha=0.5)"
      ],
      "metadata": {
        "id": "jIGAe21vLixA"
      },
      "execution_count": null,
      "outputs": []
    }
  ]
}