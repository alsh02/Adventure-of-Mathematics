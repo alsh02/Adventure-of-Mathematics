{
  "nbformat": 4,
  "nbformat_minor": 0,
  "metadata": {
    "colab": {
      "private_outputs": true,
      "provenance": [],
      "authorship_tag": "ABX9TyPY7a4m4h2wkzBBqBmXfdfj",
      "include_colab_link": true
    },
    "kernelspec": {
      "name": "python3",
      "display_name": "Python 3"
    },
    "language_info": {
      "name": "python"
    },
    "accelerator": "TPU",
    "gpuClass": "standard"
  },
  "cells": [
    {
      "cell_type": "markdown",
      "metadata": {
        "id": "view-in-github",
        "colab_type": "text"
      },
      "source": [
        "<a href=\"https://colab.research.google.com/github/alsh02/Adventure-of-Mathematics/blob/main/%EC%9D%B4%EB%AF%B8%EC%A7%80_%EC%B2%98%EB%A6%AC.ipynb\" target=\"_parent\"><img src=\"https://colab.research.google.com/assets/colab-badge.svg\" alt=\"Open In Colab\"/></a>"
      ]
    },
    {
      "cell_type": "markdown",
      "source": [
        "# 이미지에서 RGB 채널 분리해보기\n",
        "원하는 사진에서 RGB 채널을 각각 분리해봅시다."
      ],
      "metadata": {
        "id": "h0s8TjiRZ6jF"
      }
    },
    {
      "cell_type": "code",
      "execution_count": null,
      "metadata": {
        "id": "BK9FyFNiVeqT"
      },
      "outputs": [],
      "source": [
        "import numpy as np                  # 벡터, 행렬 데이터를 쉽게 처리하기 위한 모듈\n",
        "import matplotlib.pyplot as plt     # 화면에 이미지 데이터를 보여주기 위한 모듈 \n",
        "import PIL.Image as pilimg          # 이미지 파일과 데이터 처리를 위한 모듈"
      ]
    },
    {
      "cell_type": "code",
      "source": [
        "# 구글 드라이브 마운트하기\n",
        "from google.colab import drive\n",
        "drive.mount('/content/drive')"
      ],
      "metadata": {
        "id": "8_Vy0sRduaAh"
      },
      "execution_count": null,
      "outputs": []
    },
    {
      "cell_type": "code",
      "source": [
        "# 이미지 파일 읽어오기\n",
        "# 파일 경로는 '/content/drive/MyDrive/~' 꼴로 작성하면 된다. \n",
        "# 드라이브 안에 폴더를 생성하지 않고 이미지를 넣어놓았다면 '/content/drive/MyDrive/[이미지 파일]' 로 작성하자.\n",
        "img = pilimg.open( \"/content/drive/MyDrive/colab_image/karina.jpg\" )\n",
        "\n",
        "# 이미지를 잘 불러왔는지 확인\n",
        "plt.imshow(img)"
      ],
      "metadata": {
        "id": "OGiuj-uPad5a"
      },
      "execution_count": null,
      "outputs": []
    },
    {
      "cell_type": "code",
      "source": [
        "# 이미지를 array 형태로 변환\n",
        "pix = np.array(img)\n",
        "\n",
        "# 이미지 array의 차원 출력\n",
        "pix_size = np.array(pix.shape)\n",
        "pix_size"
      ],
      "metadata": {
        "id": "tDKd1VrpvruS"
      },
      "execution_count": null,
      "outputs": []
    },
    {
      "cell_type": "code",
      "source": [
        "# 원본 이미지에서 R, G, B에 해당하는 이미지 만들기\n",
        "# 이미지 array에서 픽셀의 색 채널 중 하나를 제외하고 나머지 색 채널의 값을 0으로 만들어 하나의 색 채널만 추출함.\n",
        "pix_R = pix.copy()\n",
        "pix_G = pix.copy()\n",
        "pix_B = pix.copy()\n",
        "pix_R[:, :, (1, 2)] = 0\n",
        "pix_G[:, :, (0, 2)] = 0\n",
        "pix_B[:, :, (0, 1)] = 0"
      ],
      "metadata": {
        "id": "SAbutXnkwpwv"
      },
      "execution_count": null,
      "outputs": []
    },
    {
      "cell_type": "code",
      "source": [
        "# matplotlib을 다루는 법은 차후 제대로 알아보자. 궁금하다면 검색해보거나 공식 문서를 읽어보자.\n",
        "\n",
        "# 원본 이미지 출력\n",
        "plt.subplot(141)\n",
        "plt.imshow(pix)\n",
        "plt.axis('off')\n",
        "plt.title('RGB')\n",
        "\n",
        "# Red 채널 출력\n",
        "plt.subplot(142)\n",
        "plt.imshow(pix_R)\n",
        "plt.axis('off')\n",
        "plt.title('Red')\n",
        "\n",
        "# Green 채널 출력\n",
        "plt.subplot(143)\n",
        "plt.imshow(pix_G)\n",
        "plt.axis('off')\n",
        "plt.title('Green')\n",
        "\n",
        "# Blue 채널 출력\n",
        "plt.subplot(144)\n",
        "plt.imshow(pix_B)\n",
        "plt.axis('off')\n",
        "plt.title('Blue')"
      ],
      "metadata": {
        "id": "R9v4VXhdxl9x"
      },
      "execution_count": null,
      "outputs": []
    }
  ]
}