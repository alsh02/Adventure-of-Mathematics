{
  "nbformat": 4,
  "nbformat_minor": 0,
  "metadata": {
    "colab": {
      "provenance": [],
      "authorship_tag": "ABX9TyP5rvRwWMt17Z7jJ0UedhJr",
      "include_colab_link": true
    },
    "kernelspec": {
      "name": "python3",
      "display_name": "Python 3"
    },
    "language_info": {
      "name": "python"
    },
    "accelerator": "TPU",
    "gpuClass": "standard"
  },
  "cells": [
    {
      "cell_type": "markdown",
      "metadata": {
        "id": "view-in-github",
        "colab_type": "text"
      },
      "source": [
        "<a href=\"https://colab.research.google.com/github/alsh02/Mathematical-Explorations/blob/main/%EC%95%84%EC%9D%B4%EC%8A%A4%ED%81%AC%EB%A6%BC_%EA%B5%AC%EB%A7%A4%EC%97%90_%EB%8C%80%ED%95%9C_%EC%84%A0%ED%98%95%ED%9A%8C%EA%B7%80%EB%B6%84%EC%84%9D.ipynb\" target=\"_parent\"><img src=\"https://colab.research.google.com/assets/colab-badge.svg\" alt=\"Open In Colab\"/></a>"
      ]
    },
    {
      "cell_type": "markdown",
      "source": [
        "# 아이스크림 구매에 대한 선형회귀분석\n",
        "평균 기온에 따른 아이스크림 쇼핑 클릭량 평균 데이터를 계급으로 나누고, 그 데이터들을 상관분석 해봅시다. 그런 다음 데이터가 선형성을 가진다는 걸 눈으로 직접 확인하고 데이터들을 선형회귀분석하여 미래를 예측해봅시다."
      ],
      "metadata": {
        "id": "j-j8O7FwQsIv"
      }
    },
    {
      "cell_type": "markdown",
      "source": [
        "## 1. 데이터 계급화\n",
        "temp_ice.csv 파일을 불러온 다음 평균 기온의 도수분포표를 만들고, 날짜별 아이스크림 쇼핑 클릭량 합계와 평균 기온에 따른 아이스크림 쇼핑 클릭량 평균을 구해봅시다."
      ],
      "metadata": {
        "id": "QPeSKrOCSIcy"
      }
    },
    {
      "cell_type": "code",
      "execution_count": 1,
      "metadata": {
        "id": "gnGG6gOwQY_N"
      },
      "outputs": [],
      "source": [
        "import pandas as pd"
      ]
    },
    {
      "cell_type": "code",
      "source": [
        "# 구글 드라이브 마운트하기\n",
        "from google.colab import drive\n",
        "drive.mount('/content/drive')"
      ],
      "metadata": {
        "id": "pCzWi2nWS8bs",
        "colab": {
          "base_uri": "https://localhost:8080/"
        },
        "outputId": "0b9659e1-2476-4b20-c6d2-da8cd247e15f"
      },
      "execution_count": 2,
      "outputs": [
        {
          "output_type": "stream",
          "name": "stdout",
          "text": [
            "Mounted at /content/drive\n"
          ]
        }
      ]
    },
    {
      "cell_type": "markdown",
      "source": [
        "### - pandas 이용해서 평균 기온과 아이스크림 쇼핑 클릭량 데이터 추출하기\n",
        "pandas 라이브러리를 이용하면 책에 있는 코드의 csv 라이브러리를 이용하지 않고 간단하게 csv 파일을 다룰 수 있습니다. 반복문을 이용하지 않고 단 두 줄이면 원하는 열의 데이터를 추출할 수 있습니다."
      ],
      "metadata": {
        "id": "ketKSE7WWm_7"
      }
    },
    {
      "cell_type": "code",
      "source": [
        "data = pd.read_csv('/content/drive/MyDrive/colab_csv/temp_ice.csv', encoding='cp949')\n",
        "header = data.columns\n",
        "avg_temp = data[header[1]] # 평균기온 데이터\n",
        "ice_click = data[header[4]] # 날짜별 아이스크림 쇼핑 클릭수 데이터"
      ],
      "metadata": {
        "id": "40egt1gLSr3J"
      },
      "execution_count": 3,
      "outputs": []
    },
    {
      "cell_type": "markdown",
      "source": [
        "### - 평균 기온 데이터 기준으로 도수 분포 구간 설정하기"
      ],
      "metadata": {
        "id": "ES2Me9UiZQqH"
      }
    },
    {
      "cell_type": "code",
      "source": [
        "import numpy as np # 도수 분포 구간 설정을 위해 라이브러리 불러오기"
      ],
      "metadata": {
        "id": "gXdiYrhSXJic"
      },
      "execution_count": 4,
      "outputs": []
    },
    {
      "cell_type": "code",
      "source": [
        "# 아래 코드로 간격이 5인 7개의 계급을 만들 수 있다.\n",
        "bins = np.arange(min(avg_temp), max(avg_temp) + 5, 5)\n",
        "hist, bins = np.histogram(avg_temp, bins)"
      ],
      "metadata": {
        "id": "QZYOTg52XTA_"
      },
      "execution_count": 5,
      "outputs": []
    },
    {
      "cell_type": "markdown",
      "source": [
        "### - 평균 기온 데이터 기준으로 아이스크림 쇼핑 클릭수 구분하여 저장하기"
      ],
      "metadata": {
        "id": "nO8KofwGaV5j"
      }
    },
    {
      "cell_type": "code",
      "source": [
        "ice_buy = np.zeros(7) # 계급별 아이스크림 쇼핑 클릭수 합계를 저장할 array 선언\n",
        "\n",
        "for i in range(len(avg_temp)) :              # 평균 기온 데이터 전체 탐색하기\n",
        "  if bins[0] <= avg_temp[i] and avg_temp[i] < bins[1] :       # 첫 번째 계급에 해당한다면 \n",
        "    ice_buy[0] = ice_buy[0] + ice_click[i]                # 첫 번째 배열 값에 해당 날짜 아이스크림 쇼핑 클릭량 저장하기\n",
        "        \n",
        "  elif bins[1] <= avg_temp[i] and avg_temp[i] < bins[2] :     # 두 번째 계급에 해당한다면     \n",
        "    ice_buy[1] = ice_buy[1] + ice_click[i]                # 두 번째 배열 값에 해당 날짜 아이스크림 쇼핑 클릭량 저장하기\n",
        "        \n",
        "  elif bins[2] <= avg_temp[i] and avg_temp[i] < bins[3] :     # 세 번째 계급에 해당한다면\n",
        "    ice_buy[2] = ice_buy[2] + ice_click[i]                # 세 번째 배열 값에 해당 날짜 아이스크림 클릭량 저장하기\n",
        "\n",
        "  elif bins[3] <= avg_temp[i] and avg_temp[i] < bins[4] :     # 네 번째 계급에 해당한다면\n",
        "    ice_buy[3] = ice_buy[3] + ice_click[i]                # 네 번째 배열 값에 해당 날짜 아이스크림 클릭량 저장하기 \n",
        "        \n",
        "  elif bins[4] <= avg_temp[i] and avg_temp[i] < bins[5] :     # 다섯 번째 계급에 해당한다면\n",
        "    ice_buy[4] = ice_buy[4] + ice_click[i]                # 다섯 번째 배열 값에 해당 날짜 아이스크림 클릭량 저장하기\n",
        "        \n",
        "  elif bins[5] <= avg_temp[i] and avg_temp[i] < bins[6] :     # 여섯 번째 계급에 해당한다면\n",
        "    ice_buy[5] = ice_buy[5] + ice_click[i]                # 여섯 번째 배열 값에 해당 날짜 아이스크림 클릭수 저장하기\n",
        "        \n",
        "  else:                                               # 일곱 번째 계급에 해당한다면(이외의 값에 해당한다면\n",
        "    ice_buy[6] = ice_buy[6] + ice_click[i]                # 일곱 번째 배열 값에 해당 날짜 아이스크림 클릭량 저장하기                \n"
      ],
      "metadata": {
        "id": "05z0Fpj1X8ga"
      },
      "execution_count": 6,
      "outputs": []
    },
    {
      "cell_type": "markdown",
      "source": [
        "### - 평균 기온 데이터 계급별 아이스크림 쇼핑 클릭수의 평균 구하기"
      ],
      "metadata": {
        "id": "2uWthhqIaemt"
      }
    },
    {
      "cell_type": "code",
      "source": [
        "ice_buy_avg = np.zeros(7)\n",
        "for i in range(len(ice_buy)):\n",
        "  ice_buy_avg[i] = ice_buy[i] / hist[i] # (클릭수 합계) / (데이터 개수)"
      ],
      "metadata": {
        "id": "RMS5kkRTYbhE"
      },
      "execution_count": 7,
      "outputs": []
    },
    {
      "cell_type": "markdown",
      "source": [
        "### - 평균 기온에 따른 아이스크림 쇼핑 클릭수의 평균 막대그래프로 표현하기"
      ],
      "metadata": {
        "id": "uDk-qnGFf-1O"
      }
    },
    {
      "cell_type": "code",
      "source": [
        "import matplotlib.pyplot as plt # 그래프를 그리기 위한 라이브러리"
      ],
      "metadata": {
        "id": "XQsd4CLkazpH"
      },
      "execution_count": 8,
      "outputs": []
    },
    {
      "cell_type": "code",
      "source": [
        "plt.xlabel('Average temperature')\n",
        "plt.ylabel('Number of ice cream shopping click')\n",
        "plt.bar(bins[0:7], ice_buy_avg, align='edge', width=2)\n",
        "plt.xticks(bins[0:7])"
      ],
      "metadata": {
        "id": "ll95VSUxa3_N",
        "colab": {
          "base_uri": "https://localhost:8080/",
          "height": 522
        },
        "outputId": "ac68908a-10da-4d4a-cc8d-2e65d72df3ea"
      },
      "execution_count": 9,
      "outputs": [
        {
          "output_type": "execute_result",
          "data": {
            "text/plain": [
              "([<matplotlib.axis.XTick at 0x7f4f04373eb0>,\n",
              "  <matplotlib.axis.XTick at 0x7f4f04373e80>,\n",
              "  <matplotlib.axis.XTick at 0x7f4f043735b0>,\n",
              "  <matplotlib.axis.XTick at 0x7f4f042d96a0>,\n",
              "  <matplotlib.axis.XTick at 0x7f4f042d9b20>,\n",
              "  <matplotlib.axis.XTick at 0x7f4f042ea2b0>,\n",
              "  <matplotlib.axis.XTick at 0x7f4f042eaa00>],\n",
              " [Text(0, 0, ''),\n",
              "  Text(0, 0, ''),\n",
              "  Text(0, 0, ''),\n",
              "  Text(0, 0, ''),\n",
              "  Text(0, 0, ''),\n",
              "  Text(0, 0, ''),\n",
              "  Text(0, 0, '')])"
            ]
          },
          "metadata": {},
          "execution_count": 9
        },
        {
          "output_type": "display_data",
          "data": {
            "text/plain": [
              "<Figure size 432x288 with 1 Axes>"
            ],
            "image/png": "[encoded data removed]"
          },
          "metadata": {
            "needs_background": "light"
          }
        }
      ]
    },
    {
      "cell_type": "markdown",
      "source": [
        "## 2. 상관분석\n",
        "데이터들의 선형성을 살펴보기 위해 상관분석을 해봅시다. "
      ],
      "metadata": {
        "id": "FVmveVmsgkNA"
      }
    },
    {
      "cell_type": "markdown",
      "source": [
        "### - 데이터 시각화\n",
        "평균 기온에 따른 아이스크림 쇼핑 클릭량의 평균 데이터가 어떤 식으로 분포되어 있는지 눈으로 직접 봐봅시다."
      ],
      "metadata": {
        "id": "V_mAakq2hC51"
      }
    },
    {
      "cell_type": "code",
      "source": [
        "plt.xlabel('Average temperature')\n",
        "plt.ylabel('Number of ice cream shopping click')\n",
        "plt.scatter(avg_temp, ice_click)"
      ],
      "metadata": {
        "id": "oJObPXwTglW2",
        "colab": {
          "base_uri": "https://localhost:8080/",
          "height": 296
        },
        "outputId": "5e8e7a9b-e9ce-4374-f921-74fb7ed380d5"
      },
      "execution_count": 10,
      "outputs": [
        {
          "output_type": "execute_result",
          "data": {
            "text/plain": [
              "<matplotlib.collections.PathCollection at 0x7f4f04226ca0>"
            ]
          },
          "metadata": {},
          "execution_count": 10
        },
        {
          "output_type": "display_data",
          "data": {
            "text/plain": [
              "<Figure size 432x288 with 1 Axes>"
            ],
            "image/png": "[encoded data removed]"
          },
          "metadata": {
            "needs_background": "light"
          }
        }
      ]
    },
    {
      "cell_type": "code",
      "source": [
        "# 공분산\n",
        "cov = np.cov(avg_temp, ice_click)[0, 1]\n",
        "\n",
        "# 표준편차\n",
        "avg_temp_std = np.std(avg_temp)\n",
        "ice_click_std = np.std(ice_click)\n",
        "\n",
        "# 상관계수 = 공분산 / 각 변수의 표준편차의 곱\n",
        "corrcoeff = cov / (avg_temp_std * ice_click_std)\n",
        "corrcoeff"
      ],
      "metadata": {
        "id": "13n01QYShUar",
        "colab": {
          "base_uri": "https://localhost:8080/"
        },
        "outputId": "4262100e-017e-4d38-e02a-0d3e5030927b"
      },
      "execution_count": 11,
      "outputs": [
        {
          "output_type": "execute_result",
          "data": {
            "text/plain": [
              "0.6691695022419083"
            ]
          },
          "metadata": {},
          "execution_count": 11
        }
      ]
    },
    {
      "cell_type": "markdown",
      "source": [
        "0.6691695022419083 정도면 강한 양의 선형 관계라고 할 수 있습니다.\n",
        "따라서 선형회귀분석을 하기 적절함을 알 수 있습니다."
      ],
      "metadata": {
        "id": "rlf2E2dDvEsm"
      }
    },
    {
      "cell_type": "markdown",
      "source": [
        "## 3. 선형회귀분석\n",
        "데이터가 선형성을 띄는 경우, 그 경향을 가장 잘 표현해주는 직선의 식을 찾는 과정을 선형회귀라고 합니다. \n",
        "\n",
        "데이터와 우리가 찾은 직선 사이의 오차가 가장 작을 때 함수식을 잘 찾았다고 이야기할 수 있을 것입니다. 이를 수식으로 표현한 것이 평균제곱근오차(Root Mean Sqaure Error, RMSE)입니다.\n",
        "\n",
        "평균제곱근오차를 가장 작게 만드는 함수의 절편과 기울기를 찾는 방법을 최소제곱법(Least Square Method)라고 합니다.\n",
        "\n",
        "최소제곱법을 통해 평균 기온에 따른 아이스크림 쇼핑 클릭수 평균 데이터를 대표하는 직선을 찾아봅시다."
      ],
      "metadata": {
        "id": "rupcK2rWvl1Z"
      }
    },
    {
      "cell_type": "markdown",
      "source": [
        "### - 최소제곱법으로 평균제곱근오차를 최소로 만드는 기울기와 절편 찾기\n",
        "아래 식은 최소제곱법으로 구한 기울기와 절편이다.\n",
        "\n",
        "$\n",
        "\\beta_1 = {\\displaystyle \\sum^n_{i=1}(X_i - \\overline X)(Y_i - \\overline Y) \\over \\displaystyle \\sum^n_{i=1}(X_i - \\overline X)^2},\\space\n",
        "\\beta_0 = \\overline Y - \\beta_1\\overline X\n",
        "$"
      ],
      "metadata": {
        "id": "jlk2t-LH5VMG"
      }
    },
    {
      "cell_type": "code",
      "source": [
        "avg_temp_mean = np.mean(avg_temp)\n",
        "ice_click_mean = np.mean(ice_click)\n",
        "\n",
        "n = len(avg_temp)\n",
        "\n",
        "avg_temp_and_ice_click_sum = 0\n",
        "avg_temp_sum = 0\n",
        "for i in range(n):\n",
        "  avg_temp_and_ice_click_sum += (avg_temp[i] - avg_temp_mean) * (ice_click[i] - ice_click_mean)\n",
        "  avg_temp_sum += (avg_temp[i] - avg_temp_mean) ** 2\n",
        "\n",
        "# 기울기와 절편 선언\n",
        "# 편미분을 통해 평균제곱근오차를 최소로 만드는 기울기와 절편을 구할 수 있다.\n",
        "beta1 = avg_temp_and_ice_click_sum / avg_temp_sum\n",
        "beta0 = ice_click_mean - (beta1 * avg_temp_mean)"
      ],
      "metadata": {
        "id": "pp2F8wETyGX-"
      },
      "execution_count": 16,
      "outputs": []
    },
    {
      "cell_type": "markdown",
      "source": [
        "### - 학습된 선형회귀모델을 기반으로 기온이 주어지면 아이스크림 쇼핑 클릭수 예측하기"
      ],
      "metadata": {
        "id": "lWXe6aFG7A_q"
      }
    },
    {
      "cell_type": "code",
      "source": [
        "def regression(beta0, beta1, x):\n",
        "  return beta0 + beta1 * x"
      ],
      "metadata": {
        "id": "6AiU_vl4yVKU"
      },
      "execution_count": 15,
      "outputs": []
    },
    {
      "cell_type": "code",
      "source": [
        "input_temp = float(input(\"오늘의 기온은 : \"))\n",
        "\n",
        "predicted_ice_click = regression(beta0, beta1, input_temp)\n",
        "print(f\"오늘의 아이스크림 쇼핑 클릭수는 100점을 기준으로 {predicted_ice_click} 만큼 예상됩니다.\")"
      ],
      "metadata": {
        "colab": {
          "base_uri": "https://localhost:8080/"
        },
        "id": "Ziu8yR384zYZ",
        "outputId": "1c61602d-a7a2-4503-9c77-f54530804cb5"
      },
      "execution_count": 18,
      "outputs": [
        {
          "output_type": "stream",
          "name": "stdout",
          "text": [
            "오늘의 기온은 : 30\n",
            "오늘의 아이스크림 쇼핑 클릭량은 100점을 기준으로 63.931663973079566 만큼 예상됩니다.\n"
          ]
        }
      ]
    }
  ]
}